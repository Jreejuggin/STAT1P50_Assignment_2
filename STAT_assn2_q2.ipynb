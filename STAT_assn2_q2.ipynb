{
 "cells": [
  {
   "cell_type": "code",
   "execution_count": 2,
   "id": "a1ecaadd",
   "metadata": {},
   "outputs": [],
   "source": [
    "from random import sample\n",
    "import numpy as np\n",
    "import random\n",
    "\n",
    "for i in range(0,100):\n",
    "    \n",
    "    a = sample(['1','2','3'],1)\n",
    "    b = sample(['1','2','3'],1)\n",
    "        \n",
    "    file_a = open(file='file1.txt', mode='a')\n",
    "    file_b = open(file='file2.txt', mode='a')\n",
    "    \n",
    "    if a[0] == b[0]:\n",
    "        file_a.write(\"Its the same number\")\n",
    "        file_b.write(\"Its the same number\")\n",
    "        \n",
    "    file_a.write('\\n'+a[0])\n",
    "    file_b.write('\\n'+b[0])\n",
    "    \n",
    "\n",
    "    \n",
    "file_a.close()\n",
    "file_b.close()\n",
    "    "
   ]
  },
  {
   "cell_type": "code",
   "execution_count": null,
   "id": "e4256c57",
   "metadata": {},
   "outputs": [],
   "source": []
  }
 ],
 "metadata": {
  "kernelspec": {
   "display_name": "Python 3 (ipykernel)",
   "language": "python",
   "name": "python3"
  },
  "language_info": {
   "codemirror_mode": {
    "name": "ipython",
    "version": 3
   },
   "file_extension": ".py",
   "mimetype": "text/x-python",
   "name": "python",
   "nbconvert_exporter": "python",
   "pygments_lexer": "ipython3",
   "version": "3.11.4"
  }
 },
 "nbformat": 4,
 "nbformat_minor": 5
}
