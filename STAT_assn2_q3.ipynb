{
 "cells": [
  {
   "cell_type": "code",
   "execution_count": 3,
   "id": "24bb1ed1",
   "metadata": {},
   "outputs": [],
   "source": [
    "with open(file ='/Users/jreanner/Downloads/STAT1P50/sample_file-1.txt', mode = 'r' ) as openfileobject: #creates an object to open file\n",
    "    for line in openfileobject: #looks at each line in file\n",
    "        word = line #sets the line to a string called word\n",
    "        for element in word: #looks at each character in the word (in this case the line from file)\n",
    "            if element == 'q':\n",
    "                print (\"this line has a q\")\n"
   ]
  },
  {
   "cell_type": "code",
   "execution_count": null,
   "id": "ba716f0a",
   "metadata": {},
   "outputs": [],
   "source": []
  }
 ],
 "metadata": {
  "kernelspec": {
   "display_name": "Python 3 (ipykernel)",
   "language": "python",
   "name": "python3"
  },
  "language_info": {
   "codemirror_mode": {
    "name": "ipython",
    "version": 3
   },
   "file_extension": ".py",
   "mimetype": "text/x-python",
   "name": "python",
   "nbconvert_exporter": "python",
   "pygments_lexer": "ipython3",
   "version": "3.11.4"
  }
 },
 "nbformat": 4,
 "nbformat_minor": 5
}
