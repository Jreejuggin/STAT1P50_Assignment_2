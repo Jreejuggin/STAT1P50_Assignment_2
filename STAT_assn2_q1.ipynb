{
 "cells": [
  {
   "cell_type": "code",
   "execution_count": 2,
   "id": "e4eaf330",
   "metadata": {},
   "outputs": [
    {
     "name": "stdout",
     "output_type": "stream",
     "text": [
      "Your FBS test result: 11\n",
      "FBS is normal\n"
     ]
    }
   ],
   "source": [
    "normFBS = 99 \n",
    "askuser = input (\"Your FBS test result: \") #asks user question\n",
    "askuser = int(askuser) #coverts anwser into a interger\n",
    "\n",
    "if askuser > normFBS:\n",
    "    print (\"FBS is out of normal range........sorry\")\n",
    "else:\n",
    "    print (\"FBS is normal\")"
   ]
  },
  {
   "cell_type": "code",
   "execution_count": null,
   "id": "2a215e54",
   "metadata": {},
   "outputs": [],
   "source": []
  },
  {
   "cell_type": "code",
   "execution_count": null,
   "id": "c0c39da2",
   "metadata": {},
   "outputs": [],
   "source": []
  },
  {
   "cell_type": "code",
   "execution_count": null,
   "id": "6cce12fa",
   "metadata": {},
   "outputs": [],
   "source": []
  }
 ],
 "metadata": {
  "kernelspec": {
   "display_name": "Python 3 (ipykernel)",
   "language": "python",
   "name": "python3"
  },
  "language_info": {
   "codemirror_mode": {
    "name": "ipython",
    "version": 3
   },
   "file_extension": ".py",
   "mimetype": "text/x-python",
   "name": "python",
   "nbconvert_exporter": "python",
   "pygments_lexer": "ipython3",
   "version": "3.11.4"
  }
 },
 "nbformat": 4,
 "nbformat_minor": 5
}
