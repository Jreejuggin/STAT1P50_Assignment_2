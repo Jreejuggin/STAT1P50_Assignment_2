{
 "cells": [
  {
   "cell_type": "code",
   "execution_count": 16,
   "id": "6671a533",
   "metadata": {},
   "outputs": [
    {
     "name": "stdout",
     "output_type": "stream",
     "text": [
      "80 is NOT an outlier\n"
     ]
    }
   ],
   "source": [
    "import numpy as np\n",
    "#Function that takes parameters list and a number\n",
    "def myFunction (numberList = [], testNum = 0 ):\n",
    "    \n",
    "    #calculates the standard deviation and mean of the list\n",
    "    STD = np.std(numberList) #standard deviation\n",
    "    mean = np.mean(numberList)\n",
    "    \n",
    "    #calculates the outlier range using the equation in assignment\n",
    "    outlier = mean - 3*STD\n",
    "    outlier2 = mean + 3*STD\n",
    "    \n",
    "    #calculates the difference or how far the test number is from the mean value\n",
    "    diff = mean - testNum\n",
    "    \n",
    "    if diff >= outlier and diff <= outlier2:\n",
    "        print (testNum, \"is NOT an outlier\") #if it lands within this number range it is not an outlier\n",
    "    else:\n",
    "        print (testNum, \"is an outlier\")\n",
    "        \n",
    "\n",
    "#testing my function        \n",
    "l = [73,42,11,88,27,5,69,37,50,3]\n",
    "number = 80\n",
    "\n",
    "myFunction (l,number)"
   ]
  },
  {
   "cell_type": "code",
   "execution_count": null,
   "id": "2ef7fd73",
   "metadata": {},
   "outputs": [],
   "source": []
  }
 ],
 "metadata": {
  "kernelspec": {
   "display_name": "Python 3 (ipykernel)",
   "language": "python",
   "name": "python3"
  },
  "language_info": {
   "codemirror_mode": {
    "name": "ipython",
    "version": 3
   },
   "file_extension": ".py",
   "mimetype": "text/x-python",
   "name": "python",
   "nbconvert_exporter": "python",
   "pygments_lexer": "ipython3",
   "version": "3.11.4"
  }
 },
 "nbformat": 4,
 "nbformat_minor": 5
}
