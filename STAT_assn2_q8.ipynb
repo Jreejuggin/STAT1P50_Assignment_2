{
 "cells": [
  {
   "cell_type": "code",
   "execution_count": 72,
   "id": "194ec66e",
   "metadata": {},
   "outputs": [
    {
     "data": {
      "text/plain": [
       "{'whiskers': [<matplotlib.lines.Line2D at 0x13402dd10>,\n",
       "  <matplotlib.lines.Line2D at 0x13402c650>],\n",
       " 'caps': [<matplotlib.lines.Line2D at 0x13402fd50>,\n",
       "  <matplotlib.lines.Line2D at 0x13402d890>],\n",
       " 'boxes': [<matplotlib.lines.Line2D at 0x13407df90>],\n",
       " 'medians': [<matplotlib.lines.Line2D at 0x13402e150>],\n",
       " 'fliers': [<matplotlib.lines.Line2D at 0x1340e2310>],\n",
       " 'means': []}"
      ]
     },
     "execution_count": 72,
     "metadata": {},
     "output_type": "execute_result"
    },
    {
     "data": {
      "image/png": "[encoded data removed]",
      "text/plain": [
       "<Figure size 640x480 with 2 Axes>"
      ]
     },
     "metadata": {},
     "output_type": "display_data"
    }
   ],
   "source": [
    "import pandas as pd\n",
    "import matplotlib.pyplot as plt\n",
    "\n",
    "data = pd.read_csv('student.csv')\n",
    "data = data[['studytime','grade']]\n",
    "\n",
    "#creates empty lists\n",
    "studytimeLessThan = []\n",
    "studytimeGreaterThan = []\n",
    "\n",
    "\n",
    "studytimeLessThan = data['studytime'] < 3 #the studytime info that is less than 3\n",
    "lessThanGrades = list(data.loc[studytimeLessThan,'grade']) #insert the grades into list when the studytime info that is less than 3\n",
    "\n",
    "\n",
    "studytimeGreaterThan = data['studytime'] >= 3\n",
    "greaterThanGrades = list(data.loc[studytimeGreaterThan,'grade'])#insert the grades into list when the studytime info that is greater than or equal to 3\n",
    "\n",
    "#creates 2 seperate boxplots\n",
    "fig, axs = plt.subplots(2)\n",
    "axs [0].boxplot(lessThanGrades)\n",
    "axs[1].boxplot(greaterThanGrades)\n",
    "\n",
    "\n",
    "#in results it shows that students with study time greater than or equal to 3 (second graph) have a higher grade point average\n"
   ]
  },
  {
   "cell_type": "code",
   "execution_count": null,
   "id": "914eca52",
   "metadata": {},
   "outputs": [],
   "source": []
  }
 ],
 "metadata": {
  "kernelspec": {
   "display_name": "Python 3 (ipykernel)",
   "language": "python",
   "name": "python3"
  },
  "language_info": {
   "codemirror_mode": {
    "name": "ipython",
    "version": 3
   },
   "file_extension": ".py",
   "mimetype": "text/x-python",
   "name": "python",
   "nbconvert_exporter": "python",
   "pygments_lexer": "ipython3",
   "version": "3.11.4"
  }
 },
 "nbformat": 4,
 "nbformat_minor": 5
}
