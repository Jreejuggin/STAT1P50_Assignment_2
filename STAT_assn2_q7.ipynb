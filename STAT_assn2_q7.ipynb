{
 "cells": [
  {
   "cell_type": "code",
   "execution_count": 73,
   "id": "b6bc5fa1",
   "metadata": {},
   "outputs": [
    {
     "name": "stdout",
     "output_type": "stream",
     "text": [
      "4 paragraphs contain the word 'learning' \n"
     ]
    }
   ],
   "source": [
    "from bs4 import BeautifulSoup\n",
    "import requests\n",
    "\n",
    "#gets text from website\n",
    "content = requests.get(\"https://en.wikipedia.org/wiki/Data_science\").text \n",
    "\n",
    "soup = BeautifulSoup(content, 'html.parser')\n",
    "paragraphs = soup.find_all('p') #finds paragraphs\n",
    "#counter\n",
    "count = 0\n",
    "\n",
    "for p in paragraphs:\n",
    "    p_text = p.text\n",
    "    if \"learning\" in p_text:\n",
    "        count +=1\n",
    "        \n",
    "print (count,\"paragraphs contain the word 'learning' \")"
   ]
  },
  {
   "cell_type": "code",
   "execution_count": null,
   "id": "56e1af2d",
   "metadata": {},
   "outputs": [],
   "source": []
  }
 ],
 "metadata": {
  "kernelspec": {
   "display_name": "Python 3 (ipykernel)",
   "language": "python",
   "name": "python3"
  },
  "language_info": {
   "codemirror_mode": {
    "name": "ipython",
    "version": 3
   },
   "file_extension": ".py",
   "mimetype": "text/x-python",
   "name": "python",
   "nbconvert_exporter": "python",
   "pygments_lexer": "ipython3",
   "version": "3.11.4"
  }
 },
 "nbformat": 4,
 "nbformat_minor": 5
}
