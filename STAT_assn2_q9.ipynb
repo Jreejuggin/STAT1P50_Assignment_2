{
 "cells": [
  {
   "cell_type": "code",
   "execution_count": 9,
   "id": "6d319391",
   "metadata": {},
   "outputs": [
    {
     "name": "stdout",
     "output_type": "stream",
     "text": [
      "                     ViolentCrimesPerPop\n",
      "ViolentCrimesPerPop             1.000000\n",
      "PctPopUnderPov                  0.615753\n",
      "PctUnemployed                   0.548039\n",
      "PolicPerPop                     0.149319\n",
      "Pcthomeless                     0.426614\n",
      "PctBSorMore                    -0.296239\n"
     ]
    }
   ],
   "source": [
    "import matplotlib.pyplot as plt\n",
    "import numpy as np\n",
    "import pandas as pd\n",
    "\n",
    "\n",
    "data = pd.read_csv('crime.csv')\n",
    "data = data[['ViolentCrimesPerPop', 'PctPopUnderPov','PctUnemployed','PolicPerPop','Pcthomeless','PctBSorMore']]\n",
    "\n",
    "corr = data.corr() #correlation method \n",
    "x = corr[['ViolentCrimesPerPop']] #shows the correlation for only 'ViolentCrimesPerPop'\n",
    "\n",
    "print (x)\n",
    "#positive correlation if the number is above 0.5 (or -0.5)"
   ]
  },
  {
   "cell_type": "code",
   "execution_count": null,
   "id": "000cd75b",
   "metadata": {},
   "outputs": [],
   "source": []
  }
 ],
 "metadata": {
  "kernelspec": {
   "display_name": "Python 3 (ipykernel)",
   "language": "python",
   "name": "python3"
  },
  "language_info": {
   "codemirror_mode": {
    "name": "ipython",
    "version": 3
   },
   "file_extension": ".py",
   "mimetype": "text/x-python",
   "name": "python",
   "nbconvert_exporter": "python",
   "pygments_lexer": "ipython3",
   "version": "3.11.4"
  }
 },
 "nbformat": 4,
 "nbformat_minor": 5
}
